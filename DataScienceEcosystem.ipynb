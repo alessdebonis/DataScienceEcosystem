{
 "cells": [
  {
   "cell_type": "markdown",
   "id": "6645ef36-65e3-4df6-8ce4-a51628e6c56e",
   "metadata": {},
   "source": [
    "# Data Science Tools and Ecosystem"
   ]
  },
  {
   "cell_type": "markdown",
   "id": "7ad72be8-bf76-4538-8eb2-f2c5fa40f0a9",
   "metadata": {},
   "source": [
    "## In this notebook, Data Science Tools and Ecosystem are summarized."
   ]
  },
  {
   "cell_type": "markdown",
   "id": "e6d91bdf-f923-47db-8ecf-cb448e779130",
   "metadata": {},
   "source": [
    "### Some of the popular languages that Data Scientists use are:\n",
    "### 1. Python\n",
    "### 2. R\n",
    "### 3. SQL\n",
    "### 4. Julia\n",
    "### 5. Scala"
   ]
  },
  {
   "cell_type": "markdown",
   "id": "e541fb02-8f7f-4267-bd3b-59a5b5b81407",
   "metadata": {},
   "source": [
    "### Some of the commonly used libraries used by Data Scientists include:\n",
    "### 1. Pandas\n",
    "### 2. NumPy\n",
    "### 3. TensorFlow\n",
    "### 4. Scikit-Learn\n",
    "### 5. Matplotlib"
   ]
  },
  {
   "cell_type": "markdown",
   "id": "2a16a170-4f17-402f-a339-73e38ce24262",
   "metadata": {},
   "source": [
    "Copiar código\n",
    "| Data Science Tools |\n",
    "|--------------------|\n",
    "| Jupyter Notebook   |\n",
    "| RStudio            |\n",
    "| Apache Zeppelin    |"
   ]
  },
  {
   "cell_type": "markdown",
   "id": "9503e78c-5100-487f-bbb0-305e3240cb10",
   "metadata": {
    "tags": []
   },
   "source": [
    "### Below are a few examples of evaluating arithmetic expressions in Python."
   ]
  },
  {
   "cell_type": "code",
   "execution_count": 1,
   "id": "1ab531e0-5679-440a-9316-3060f3ca528f",
   "metadata": {
    "tags": []
   },
   "outputs": [
    {
     "data": {
      "text/plain": [
       "17"
      ]
     },
     "execution_count": 1,
     "metadata": {},
     "output_type": "execute_result"
    }
   ],
   "source": [
    "# This a simple arithmetic expression to multiply then add integers\n",
    "(3*4) + 5"
   ]
  },
  {
   "cell_type": "code",
   "execution_count": 3,
   "id": "5cba5901-8011-4179-a406-12ed893eadfa",
   "metadata": {
    "tags": []
   },
   "outputs": [
    {
     "name": "stdout",
     "output_type": "stream",
     "text": [
      "3.3333333333333335 hours\n"
     ]
    }
   ],
   "source": [
    "# This will convert 200 minutes to hours by dividing by 60\n",
    "H = 200 / 60\n",
    "print(H , \"hours\")"
   ]
  },
  {
   "cell_type": "markdown",
   "id": "2c357bb2-cb18-4caf-99de-55f4475c5ba2",
   "metadata": {},
   "source": [
    "### **Objectives:**\n",
    "- List popular languages for Data Science.\n",
    "- Identify common libraries used by Data Scientists.\n",
    "- Evaluate arithmetic expressions in Python.\n",
    "- Share tools commonly used in Data Science.\n",
    "- Convert time units using Python."
   ]
  },
  {
   "cell_type": "markdown",
   "id": "db1c3bda-dc33-4b69-ab83-1218b39f66d5",
   "metadata": {},
   "source": [
    "## Author\n",
    "Alessandro"
   ]
  }
 ],
 "metadata": {
  "kernelspec": {
   "display_name": "Python",
   "language": "python",
   "name": "conda-env-python-py"
  },
  "language_info": {
   "codemirror_mode": {
    "name": "ipython",
    "version": 3
   },
   "file_extension": ".py",
   "mimetype": "text/x-python",
   "name": "python",
   "nbconvert_exporter": "python",
   "pygments_lexer": "ipython3",
   "version": "3.7.12"
  }
 },
 "nbformat": 4,
 "nbformat_minor": 5
}
